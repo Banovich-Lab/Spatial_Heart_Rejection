{
 "cells": [
  {
   "cell_type": "code",
   "execution_count": null,
   "id": "d1141502-a499-42e4-803d-f8520193f25d",
   "metadata": {},
   "outputs": [],
   "source": [
    "# Make sure kernel is set to rapids\n",
    "import time\n",
    "import pandas as pd\n",
    "import numpy as np\n",
    "import scanpy as sc\n",
    "import anndata\n",
    "import pickle\n",
    "import matplotlib.pyplot as plt\n",
    "import matplotlib.animation as animation\n",
    "from natsort import natsorted\n",
    "\n",
    "import cupy as cp\n",
    "import cupyx as cpx\n",
    "import cupyx\n",
    "import cugraph\n",
    "\n",
    "import cudf\n",
    "import math\n",
    "\n",
    "import h5py\n",
    "import scipy\n",
    "\n",
    "import dask\n",
    "import dask_cudf\n",
    "import rmm\n",
    "\n",
    "from dask_cuda import initialize, LocalCUDACluster\n",
    "from dask import delayed, dataframe\n",
    "from dask.dataframe.utils import make_meta\n",
    "from dask.distributed import Client, default_client\n",
    "from dask_cuda.local_cuda_cluster import cuda_visible_devices\n",
    "import dask.dataframe as dd\n",
    "\n",
    "from cuml.manifold import TSNE, UMAP\n",
    "from cuml.linear_model import LinearRegression\n",
    "\n",
    "from sklearn.decomposition import PCA\n",
    "from cuml.dask.cluster import KMeans as cu_dask_KMeans\n",
    "from cuml.dask.manifold import UMAP as cu_dask_UMAP\n",
    "from cuml.dask.linear_model import LinearRegression as cu_dask_LinearRegression\n",
    "from cuml.dask.neighbors import NearestNeighbors as cu_dask_NearestNeighbors\n",
    "\n",
    "#These need to present as .py files in the directory.\n",
    "import rapids_scanpy_funcs as rsc\n",
    "import utils as utils\n",
    "\n",
    "#I'm not actually sure what this does, but I was told to include it by the RAPIDS manual.\n",
    "import warnings\n",
    "warnings.filterwarnings('ignore', 'Expected ')\n",
    "warnings.simplefilter('ignore')\n",
    "\n",
    "#This lets you oversubscribe memory on the GPU.\n",
    "rmm.reinitialize(managed_memory=False)\n",
    "cp.cuda.set_allocator(rmm.rmm_cupy_allocator)"
   ]
  },
  {
   "cell_type": "code",
   "execution_count": null,
   "id": "1c25da17-3c0e-41cd-a70d-2b7f088c30dd",
   "metadata": {},
   "outputs": [],
   "source": [
    "#Read in anndata as a pickle file from previous script.\n",
    "with open('merged_spatial_filtered', 'rb') as f:\n",
    "    adata = pickle.load(f)"
   ]
  },
  {
   "cell_type": "code",
   "execution_count": null,
   "id": "f1efa92d-bbc6-47eb-9097-2e279a2840fd",
   "metadata": {},
   "outputs": [],
   "source": [
    "#Storing raw counts separately.\n",
    "adata.raw = adata"
   ]
  },
  {
   "cell_type": "code",
   "execution_count": null,
   "id": "ff4e386c-6ac5-4988-bcad-7bc0d05c0a24",
   "metadata": {},
   "outputs": [],
   "source": [
    "sc.pp.log1p(adata)"
   ]
  },
  {
   "cell_type": "code",
   "execution_count": null,
   "id": "5695f055-b81d-4459-b6ac-a3476edc96a7",
   "metadata": {},
   "outputs": [],
   "source": [
    "sc.pp.scale(adata)"
   ]
  },
  {
   "cell_type": "code",
   "execution_count": null,
   "id": "c4163ad2-8990-40d7-b1ca-f9508637dd37",
   "metadata": {},
   "outputs": [],
   "source": [
    "#Run PCA.\n",
    "sc.tl.pca(adata, n_comps=100)"
   ]
  },
  {
   "cell_type": "code",
   "execution_count": null,
   "id": "e1979bed-a2a1-4bb5-8979-2cabf9d7e1b4",
   "metadata": {},
   "outputs": [],
   "source": [
    "#Find neighbours. Make sure method is set to rapids or it won't run on the GPU.\n",
    "sc.pp.neighbors(adata, use_rep='X_pca', n_neighbors=20, n_pcs=20, method='rapids')"
   ]
  },
  {
   "cell_type": "code",
   "execution_count": null,
   "id": "66cadf06-c8c3-44b7-a530-1615d57a86b1",
   "metadata": {},
   "outputs": [],
   "source": [
    "#Leiden clustering. Have to add to keys by hand because key_added argument is not available. Note that this is a function from rapids_scanpy_funcs.py NOT from scanpy.\n",
    "adata.obs[\"leiden_res0.1\"] = rsc.leiden(adata, resolution=0.1)\n",
    "adata.obs[\"leiden_res0.2\"] = rsc.leiden(adata, resolution=0.2)\n",
    "adata.obs[\"leiden_res0.3\"] = rsc.leiden(adata, resolution=0.3)\n",
    "adata.obs[\"leiden_res0.4\"] = rsc.leiden(adata, resolution=0.4)\n",
    "adata.obs[\"leiden_res0.5\"] = rsc.leiden(adata, resolution=0.5)\n",
    "adata.obs[\"leiden_res0.7\"] = rsc.leiden(adata, resolution=0.7)\n",
    "adata.obs[\"leiden_res0.75\"] = rsc.leiden(adata, resolution=0.75)\n",
    "adata.obs[\"leiden_res0.8\"] = rsc.leiden(adata, resolution=0.8)\n",
    "adata.obs[\"leiden_res0.9\"] = rsc.leiden(adata, resolution=0.9)\n",
    "adata.obs[\"leiden_res1.0\"] = rsc.leiden(adata, resolution=1.0)\n",
    "adata.obs[\"leiden_res1.5\"] = rsc.leiden(adata, resolution=1.5)\n",
    "adata.obs[\"leiden_res2.0\"] = rsc.leiden(adata, resolution=2.0)"
   ]
  },
  {
   "cell_type": "code",
   "execution_count": null,
   "id": "e913dde8-4e2d-42f0-a0f3-dc140cf38f02",
   "metadata": {},
   "outputs": [],
   "source": [
    "#Run UMAP. Make sure method is set to rapids or it won't run on the GPU.\n",
    "sc.tl.umap(adata, random_state=42, method='rapids')\n",
    "sc.pl.umap(adata, color='leiden_res0.7')\n",
    "#sc.pl.umap(adata, color='leiden_res0.4')"
   ]
  },
  {
   "cell_type": "code",
   "execution_count": null,
   "id": "bddbf431-77c4-4e5f-8a53-695f2988c53d",
   "metadata": {},
   "outputs": [],
   "source": [
    "# Cast to string then to cat\n",
    "adata.obs[\"leiden_res0.7\"] = adata.obs[\"leiden_res0.7\"].astype('str')\n",
    "adata.obs[\"leiden_res0.7\"] = adata.obs[\"leiden_res0.7\"].astype('category')"
   ]
  },
  {
   "cell_type": "code",
   "execution_count": null,
   "id": "1e965e99-adf8-44b1-b34a-219663feda3c",
   "metadata": {},
   "outputs": [],
   "source": [
    "# Subclusternig for all applicable tmp-objects\n",
    "\n",
    "# Sub-cluster - PASS1\n",
    "# Endothelial: clustered_obj_endo_pass1_NC100_NN20_PC20_2024_06_10.rds\n",
    "# 1, 3 from 0.3\n",
    "#brl.leiden(adata, key_added=\"leiden_res0.3_c1_0.3\", resolution=0.3, restrict_to = (\"leiden_res0.3\", [\"1\"]))\n",
    "#brl.leiden(adata, key_added=\"subcluster\", resolution=0.2, restrict_to = (\"leiden_res0.3_c1_0.3\", [\"3\"]))\n",
    "# brl.leiden(adata, key_added=\"leiden_res0.3_c1_0.3\", resolution=0.3, restrict_to = (\"leiden_res0.3\", [\"1\"]))\n",
    "# brl.leiden(adata, key_added=\"leiden_res0.3_c1_0.3_c2_0.2\", resolution=0.15, restrict_to = (\"leiden_res0.3_c1_0.3\", [\"2\"]))\n",
    "# brl.leiden(adata, key_added=\"subcluster2\", resolution=0.2, restrict_to = (\"leiden_res0.3_c1_0.3_c2_0.2\", [\"3\"]))\n",
    "\n",
    "# Sub-cluster - PASS2\n",
    "# Immune: clustered_obj_imm_pass2_NC100_NN20_PC20_2024_06_13.rds\n",
    "# 11 from res 0.7\n",
    "# brl.leiden(adata, key_added=\"subcluster\", resolution=0.2, restrict_to = (\"leiden_res0.7\", [\"11\"]))\n",
    "# 7, 11\n",
    "# brl.leiden(adata, key_added=\"leiden_res0.7_c11_0.2\", resolution=0.2, restrict_to = (\"leiden_res0.7\", [\"11\"]))\n",
    "# brl.leiden(adata, key_added=\"subcluster2\", resolution=0.2, restrict_to = (\"leiden_res0.7_c11_0.2\", [\"7\"]))\n",
    "\n",
    "# Meyloid: clustered_obj_meyloid_NC100_NN20_PC20_2024_06_13.rds\n",
    "# brl.leiden(adata, key_added=\"subcluster\", resolution=0.2, restrict_to = (\"leiden_res0.7\", [\"6\"]))\n",
    "\n",
    "# Lymphoid: clustered_obj_lymphoid_NC100_NN20_PC20_2024_06_13.rds\n",
    "# brl.leiden(adata, key_added=\"subcluster\", resolution=0.3, restrict_to = (\"leiden_res0.7\", [\"7\"]))\n",
    "\n",
    "# T cells: clustered_obj_T_NC100_NN20_PC20_2024_06_13.rds\n",
    "# 1, 5\n",
    "# brl.leiden(adata, key_added=\"leiden_res0.7_c1\", resolution=0.5, restrict_to = (\"leiden_res0.7\", [\"1\"]))\n",
    "# brl.leiden(adata, key_added=\"subcluster\", resolution=0.3, restrict_to = (\"leiden_res0.7_c1\", [\"5\"]))\n",
    "\n",
    "# Mesenchymal: clustered_obj_mes_pass2_NC100_NN20_PC20_2024_06_13.rds\n",
    "# 2, 3, 4\n",
    "# brl.leiden(adata, key_added=\"leiden_res0.4_c2\", resolution=0.4, restrict_to = (\"leiden_res0.4\", [\"2\"]))\n",
    "# brl.leiden(adata, key_added=\"leiden_res0.4_c2_c3\", resolution=0.2, restrict_to = (\"leiden_res0.4_c2\", [\"3\"]))\n",
    "# brl.leiden(adata, key_added=\"subcluster\", resolution=0.3, restrict_to = (\"leiden_res0.4_c2_c3\", [\"4\"]))\n",
    "\n",
    "# Endothelial: clustered_obj_endo_pass2_NC100_NN20_PC20_2024_06_13.rds\n",
    "# 0, 1\n",
    "# brl.leiden(adata, key_added=\"leiden_res0.5_c0\", resolution=0.4, restrict_to = (\"leiden_res0.5\", [\"0\"]))\n",
    "# brl.leiden(adata, key_added=\"subcluster\", resolution=0.4, restrict_to = (\"leiden_res0.5_c0\", [\"1\"]))\n",
    "\n",
    "# Macrophahes: clustered_obj_macro_pass3_NC100_NN20_PC20_2024_06_18.rds\n",
    "# 6\n",
    "#brl.leiden(adata, key_added=\"leiden_res0.7_c5\", resolution=0.3, restrict_to = (\"leiden_res0.7\", [\"5\"]))\n",
    "brl.leiden(adata, key_added=\"subcluster\", resolution=0.3, restrict_to = (\"leiden_res0.7\", [\"6\"]))\n"
   ]
  },
  {
   "cell_type": "code",
   "execution_count": null,
   "id": "b3173f83-17e1-4008-9a55-4d252cc7dad0",
   "metadata": {},
   "outputs": [],
   "source": [
    "sc.pl.umap(adata, color=\"subcluster\")\n",
    "#sc.pl.umap(adata, color=\"subcluster2\")"
   ]
  },
  {
   "cell_type": "code",
   "execution_count": null,
   "id": "11945493-90f7-4325-a7da-7a777ce1cad4",
   "metadata": {},
   "outputs": [],
   "source": [
    "sc.pl.umap(adata, color=[\"PTPRC\", \"VWF\",\n",
    "                         \"EPCAM\", # Epithelial\n",
    "                         \"PECAM1\" # Endothelial\n",
    "                    ], use_raw=False)"
   ]
  },
  {
   "cell_type": "code",
   "execution_count": null,
   "id": "a248f574-2ccb-4a4e-bc04-2674376342e5",
   "metadata": {},
   "outputs": [],
   "source": [
    "sc.pl.umap(adata, color=[\"PTPRC\", \"CD3E\", \"CD3D\", \"TRAC\", # Immune\n",
    "                         \"EPCAM\", # Epithelial\n",
    "                         \"PECAM1\", # Endothelial\n",
    "                         \"TTN\", \"FHL2\", # Cardiomyocyte\n",
    "                         \"DCN\", \"C7\", \"FBLN1\", \"LTBP2\", \"OGN\", \"PDGFRA\", # Fibroblasts\n",
    "                         \"PDGFRB\", \"ACTA2\", # Pericytes\n",
    "                         \"ADIPOQ\" # Adipocytes\n",
    "                         #\"ACTA2\", \"MYH11\"n  # Vascular smooth muscle cells (VSMCs) \n",
    "                         #\"VWF\", \"BMX\" # Ednocardial cells\n",
    "                         \n",
    "                    ], use_raw=False)"
   ]
  },
  {
   "cell_type": "code",
   "execution_count": null,
   "id": "473ec92e-3029-4d3f-9e5e-4d67def0588e",
   "metadata": {},
   "outputs": [],
   "source": [
    "sc.pl.umap(adata, color=[\"GNLY\", \"NKG7\", \"KLRB1\", #\"KLRC1\", #NK \n",
    "                         \"KLRD1\", #NK\n",
    "                         \"CD3E\", \"CD3D\", \"CD8A\", \"CD4\", \"FOXP3\", # T\n",
    "                         \"MS4A1\", # B\n",
    "                         \"CD79A\", # B and plasma\n",
    "                         \"TNFRSF17\", \"DERL3\", # plasma\n",
    "                         \"MKI67\", # Proliferating\n",
    "                         \"LILRA4\", \"CCR7\" # pDCs\n",
    "                        \n",
    "                    ], use_raw=False)"
   ]
  },
  {
   "cell_type": "code",
   "execution_count": null,
   "id": "d24eee27-c91b-4391-bf03-00353222ad2e",
   "metadata": {},
   "outputs": [],
   "source": [
    "sc.pl.umap(adata, color=[\n",
    "    \"CD163\", \"MRC1\", \"MARCO\", \"FCGR1A\", # Macrophage\n",
    "    \"LYZ\", \"CD14\", \"FCGR3A\",  \"MS4A7\", # Monocyte\n",
    "    \"FCER1A\", #mo-DCs, cDC1, or pDC\n",
    "    \"CD1A\", \"CD1C\",\t\"MRC1\", \"CD209\", \"ITGAM\", # monocyte derived DCs\n",
    "    \"CD8A\", \"ITGAX\", \"XCR1\", # cDC1\n",
    "    \"MS4A2\", # mast\n",
    "    \"MKI67\"\n",
    "                    ], use_raw=False)"
   ]
  },
  {
   "cell_type": "code",
   "execution_count": null,
   "id": "68d3962a-579b-4579-ad17-1c1d2cb2adce",
   "metadata": {},
   "outputs": [],
   "source": [
    "adata.X = sc.pp.log1p(adata.raw.X, copy=True)"
   ]
  },
  {
   "cell_type": "code",
   "execution_count": null,
   "id": "3cfba4c1-37f6-471b-ade3-e26ac9a83f08",
   "metadata": {},
   "outputs": [],
   "source": [
    "#Cast int32 variables to float64 so that the object can be converted back to Seurat. Note that int64 may work as well, but I haven't tested it.\n",
    "adata.obs[\"transcript_counts\"] = adata.obs[\"transcript_counts\"].astype('float64')\n",
    "adata.obs[\"control_probe_counts\"] = adata.obs[\"control_probe_counts\"].astype('float64')\n",
    "adata.obs[\"control_codeword_counts\"] = adata.obs[\"control_codeword_counts\"].astype('float64')\n",
    "adata.obs[\"control_codeword_counts\"] = adata.obs[\"control_codeword_counts\"].astype('float64')\n",
    "adata.obs[\"unassigned_codeword_counts\"] = adata.obs[\"unassigned_codeword_counts\"].astype('float64')\n",
    "adata.obs[\"deprecated_codeword_counts\"] = adata.obs[\"deprecated_codeword_counts\"].astype('float64')\n",
    "adata.obs[\"nCount_Xenium\"] = adata.obs[\"nCount_Xenium\"].astype('float64')\n",
    "adata.obs[\"nFeature_Xenium\"] = adata.obs[\"nFeature_Xenium\"].astype('float64')\n",
    "adata.obs[\"total_counts\"] = adata.obs[\"total_counts\"].astype('float64')"
   ]
  },
  {
   "cell_type": "code",
   "execution_count": null,
   "id": "a8cc9c3a-2917-4954-83a0-a67c8957067f",
   "metadata": {},
   "outputs": [],
   "source": [
    "#Write anndata to h5 file to import into R for conversion to Seurat object. Next move to commandline R for sceasy.\n",
    "#adata.write_h5ad(filename=\"/scratch/aoill/projects/heart_transplant/clustered_obj_imm_mye_subclustered_NC100_NN20_PC20_2024_05_30.h5ad\")\n",
    "#adata.write_h5ad(filename=\"/scratch/aoill/projects/heart_transplant/clustered_obj_mes2_NC100_NN20_PC20_2024_06_03.h5ad\")\n",
    "adata.write_h5ad(filename=\"/scratch/aoill/projects/heart_transplant/new/clustered_obj_macro_c5_pass3_NC100_NN20_PC20_2024_06_18.h5ad\")"
   ]
  },
  {
   "cell_type": "code",
   "execution_count": null,
   "id": "907b48bd-ee69-403a-a2d0-3e33d4c23864",
   "metadata": {},
   "outputs": [],
   "source": [
    "#Metadata CSV\n",
    "meta_csv_file = \"/scratch/aoill/projects/heart_transplant/new/tmp_metadata.csv\"\n",
    "adata.obs.to_csv(meta_csv_file)"
   ]
  }
 ],
 "metadata": {
  "kernelspec": {
   "display_name": "Python [conda env:rapids]",
   "language": "python",
   "name": "conda-env-rapids-py"
  },
  "language_info": {
   "codemirror_mode": {
    "name": "ipython",
    "version": 3
   },
   "file_extension": ".py",
   "mimetype": "text/x-python",
   "name": "python",
   "nbconvert_exporter": "python",
   "pygments_lexer": "ipython3",
   "version": "3.7.10"
  }
 },
 "nbformat": 4,
 "nbformat_minor": 5
}

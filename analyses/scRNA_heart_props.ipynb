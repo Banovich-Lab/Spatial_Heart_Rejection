{
 "cells": [
  {
   "cell_type": "code",
   "execution_count": 2,
   "id": "d00b58aa-6254-4710-bbe2-1c21db887a66",
   "metadata": {},
   "outputs": [],
   "source": [
    "# Comparing scRNA seq heart atlas to spatial data set\n",
    "# Probably want to output a table with sample, proportion, lineage"
   ]
  },
  {
   "cell_type": "code",
   "execution_count": 1,
   "id": "4bc38f0b-f524-422a-a280-e171ec01bf2b",
   "metadata": {},
   "outputs": [],
   "source": [
    "import scanpy as sc\n",
    "import pandas as pd\n"
   ]
  },
  {
   "cell_type": "code",
   "execution_count": 2,
   "id": "40c7d2de-e852-462f-9f82-9ebcf796577e",
   "metadata": {},
   "outputs": [],
   "source": [
    "# Read in Global_lognormalised.h5ad file\n",
    "adata = sc.read_h5ad('/scratch/aoill/projects/heart_transplant/scrna_atlas/Global_lognormalised.h5ad')"
   ]
  },
  {
   "cell_type": "code",
   "execution_count": 4,
   "id": "b9bd10d2-d076-4ced-a867-a9ecd471deec",
   "metadata": {},
   "outputs": [
    {
     "name": "stdout",
     "output_type": "stream",
     "text": [
      "AnnData object with n_obs × n_vars = 704296 × 32732\n",
      "    obs: 'sangerID', 'donor', 'donor_type', 'region', 'age', 'gender', 'facility', 'cell_or_nuclei', 'modality', 'kit_10x', 'flushed', 'cell_type', 'cell_state', 'n_genes', 'n_genes_by_counts', 'total_counts', 'total_counts_mt', 'pct_counts_mt', 'total_counts_ribo', 'pct_counts_ribo', 'scrublet_score'\n",
      "    var: 'gene_name_scRNA-0-original', 'gene_name_snRNA-1-original', 'gene_name_multiome-2-original', 'gene_id'\n",
      "    uns: 'age_colors', 'cell_or_nuclei_colors', 'cell_state_colors', 'cell_type_colors', 'donor_colors', 'donor_type_colors', 'facility_colors', 'flushed_colors', 'gender_colors', 'kit_10x_colors', 'leiden', 'log1p', 'modality_colors', 'neighbors', 'original_or_new_colors', 'region_colors', 'region_finest_colors', 'scANVI_predictions_colors', 'umap'\n",
      "    obsm: 'X_umap'\n",
      "    obsp: 'connectivities', 'distances'\n"
     ]
    }
   ],
   "source": [
    "# Look at data\n",
    "print(adata)"
   ]
  },
  {
   "cell_type": "code",
   "execution_count": 3,
   "id": "00dd1972-9cc1-46e0-935b-c8d6fb08f138",
   "metadata": {},
   "outputs": [
    {
     "name": "stdout",
     "output_type": "stream",
     "text": [
      "                                         sangerID donor donor_type region  \\\n",
      "barcode                                                                     \n",
      "HCAHeart7606896_GATGAGGCACGGCTAC  HCAHeart7606896    D1        DBD     AX   \n",
      "HCAHeart7606896_CGCTTCACATTTGCCC  HCAHeart7606896    D1        DBD     AX   \n",
      "HCAHeart7606896_GTTAAGCAGAGACTAT  HCAHeart7606896    D1        DBD     AX   \n",
      "HCAHeart7606896_TCGCGTTGTAAGAGGA  HCAHeart7606896    D1        DBD     AX   \n",
      "HCAHeart7606896_GCTGCGAGTGTTGGGA  HCAHeart7606896    D1        DBD     AX   \n",
      "\n",
      "                                    age  gender facility cell_or_nuclei  \\\n",
      "barcode                                                                   \n",
      "HCAHeart7606896_GATGAGGCACGGCTAC  50-55  Female   Sanger           Cell   \n",
      "HCAHeart7606896_CGCTTCACATTTGCCC  50-55  Female   Sanger           Cell   \n",
      "HCAHeart7606896_GTTAAGCAGAGACTAT  50-55  Female   Sanger           Cell   \n",
      "HCAHeart7606896_TCGCGTTGTAAGAGGA  50-55  Female   Sanger           Cell   \n",
      "HCAHeart7606896_GCTGCGAGTGTTGGGA  50-55  Female   Sanger           Cell   \n",
      "\n",
      "                                 modality    kit_10x  ...         cell_type  \\\n",
      "barcode                                               ...                     \n",
      "HCAHeart7606896_GATGAGGCACGGCTAC    scRNA  3prime-v2  ...  Endothelial cell   \n",
      "HCAHeart7606896_CGCTTCACATTTGCCC    scRNA  3prime-v2  ...        Mural cell   \n",
      "HCAHeart7606896_GTTAAGCAGAGACTAT    scRNA  3prime-v2  ...  Endothelial cell   \n",
      "HCAHeart7606896_TCGCGTTGTAAGAGGA    scRNA  3prime-v2  ...        Mural cell   \n",
      "HCAHeart7606896_GCTGCGAGTGTTGGGA    scRNA  3prime-v2  ...  Endothelial cell   \n",
      "\n",
      "                                 cell_state n_genes  n_genes_by_counts  \\\n",
      "barcode                                                                  \n",
      "HCAHeart7606896_GATGAGGCACGGCTAC    EC5_art    2470               2470   \n",
      "HCAHeart7606896_CGCTTCACATTTGCCC   SMC2_art    2057               2057   \n",
      "HCAHeart7606896_GTTAAGCAGAGACTAT    EC5_art    2432               2432   \n",
      "HCAHeart7606896_TCGCGTTGTAAGAGGA  PC2_atria    1821               1821   \n",
      "HCAHeart7606896_GCTGCGAGTGTTGGGA    EC5_art    2332               2332   \n",
      "\n",
      "                                  total_counts  total_counts_mt  \\\n",
      "barcode                                                           \n",
      "HCAHeart7606896_GATGAGGCACGGCTAC        7127.0              0.0   \n",
      "HCAHeart7606896_CGCTTCACATTTGCCC        6094.0              1.0   \n",
      "HCAHeart7606896_GTTAAGCAGAGACTAT        6254.0              0.0   \n",
      "HCAHeart7606896_TCGCGTTGTAAGAGGA        5864.0              0.0   \n",
      "HCAHeart7606896_GCTGCGAGTGTTGGGA        4922.0              0.0   \n",
      "\n",
      "                                  pct_counts_mt  total_counts_ribo  \\\n",
      "barcode                                                              \n",
      "HCAHeart7606896_GATGAGGCACGGCTAC        0.00000              469.0   \n",
      "HCAHeart7606896_CGCTTCACATTTGCCC        0.01641              334.0   \n",
      "HCAHeart7606896_GTTAAGCAGAGACTAT        0.00000              326.0   \n",
      "HCAHeart7606896_TCGCGTTGTAAGAGGA        0.00000              597.0   \n",
      "HCAHeart7606896_GCTGCGAGTGTTGGGA        0.00000              246.0   \n",
      "\n",
      "                                  pct_counts_ribo  scrublet_score  \n",
      "barcode                                                            \n",
      "HCAHeart7606896_GATGAGGCACGGCTAC         6.580609        0.228571  \n",
      "HCAHeart7606896_CGCTTCACATTTGCCC         5.480801        0.134615  \n",
      "HCAHeart7606896_GTTAAGCAGAGACTAT         5.212664        0.228571  \n",
      "HCAHeart7606896_TCGCGTTGTAAGAGGA        10.180764        0.228571  \n",
      "HCAHeart7606896_GCTGCGAGTGTTGGGA         4.997968        0.172414  \n",
      "\n",
      "[5 rows x 21 columns]\n"
     ]
    }
   ],
   "source": [
    "print(adata.obs.head())"
   ]
  },
  {
   "cell_type": "code",
   "execution_count": 4,
   "id": "9ff54d44-efc5-47ca-bda6-a85e40ba48e5",
   "metadata": {},
   "outputs": [
    {
     "name": "stdout",
     "output_type": "stream",
     "text": [
      "              gene_name_scRNA-0-original gene_name_snRNA-1-original  \\\n",
      "gene_name-new                                                         \n",
      "MIR1302-2HG                  MIR1302-2HG                MIR1302-2HG   \n",
      "FAM138A                          FAM138A                    FAM138A   \n",
      "OR4F5                              OR4F5                      OR4F5   \n",
      "AL627309.1                    AL627309.1                 AL627309.1   \n",
      "AL627309.3                    AL627309.3                 AL627309.3   \n",
      "\n",
      "              gene_name_multiome-2-original          gene_id  \n",
      "gene_name-new                                                 \n",
      "MIR1302-2HG                     MIR1302-2HG  ENSG00000243485  \n",
      "FAM138A                             FAM138A  ENSG00000237613  \n",
      "OR4F5                                 OR4F5  ENSG00000186092  \n",
      "AL627309.1                       AL627309.1  ENSG00000238009  \n",
      "AL627309.3                       AL627309.3  ENSG00000239945  \n"
     ]
    }
   ],
   "source": [
    "print(adata.var.head())"
   ]
  },
  {
   "cell_type": "code",
   "execution_count": 5,
   "id": "b65b7829-24ff-40fb-9bc6-fb93e40af694",
   "metadata": {},
   "outputs": [
    {
     "name": "stdout",
     "output_type": "stream",
     "text": [
      "['scRNA', 'snRNA', 'Multiome-RNA']\n",
      "Categories (3, object): ['Multiome-RNA', 'scRNA', 'snRNA']\n"
     ]
    }
   ],
   "source": [
    "# Is there only scRNA in this dataset?\n",
    "unique_modalities = adata.obs['modality'].unique()\n",
    "print(unique_modalities)\n",
    "# 'Multiome-RNA', 'scRNA', 'snRNA'\n",
    "# not sure if that matters\n",
    "# no spatial so for now I'll just us all of the data"
   ]
  },
  {
   "cell_type": "code",
   "execution_count": 6,
   "id": "ebc26a2e-088c-49d6-8d5d-6f6c687ec797",
   "metadata": {},
   "outputs": [
    {
     "name": "stdout",
     "output_type": "stream",
     "text": [
      "['D1', 'D3', 'D4', 'D5', 'D6', ..., 'AV10', 'AV14', 'AV3', 'AV13', 'AH2']\n",
      "Length: 22\n",
      "Categories (22, object): ['A61', 'AH1', 'AH2', 'AV3', ..., 'H4', 'H5', 'H6', 'H7']\n"
     ]
    }
   ],
   "source": [
    "unique_donors = adata.obs['donor'].unique()\n",
    "print(unique_donors)\n",
    "# there are 22 donors"
   ]
  },
  {
   "cell_type": "code",
   "execution_count": 7,
   "id": "ad5b672f-0b1b-436d-84ce-78279a68472b",
   "metadata": {},
   "outputs": [
    {
     "name": "stdout",
     "output_type": "stream",
     "text": [
      "['AX', 'LV', 'RV', 'LA', 'SP', 'RA', 'SAN', 'AVN']\n",
      "Categories (8, object): ['SAN', 'AVN', 'RA', 'LA', 'RV', 'LV', 'SP', 'AX']\n"
     ]
    }
   ],
   "source": [
    "# What are the different regions of the heart sampled?\n",
    "# Do we know in our data set and do we want to match where avaiable?\n",
    "unique_regions = adata.obs['region'].unique()\n",
    "print(unique_regions)\n",
    "# 'SAN', 'AVN', 'RA', 'LA', 'RV', 'LV', 'SP', 'AX'"
   ]
  },
  {
   "cell_type": "code",
   "execution_count": 8,
   "id": "f40b76af-030d-486d-b848-5c9c7b814319",
   "metadata": {},
   "outputs": [
    {
     "name": "stdout",
     "output_type": "stream",
     "text": [
      "['Endothelial cell', 'Mural cell', 'Myeloid', 'Fibroblast', 'Lymphoid', ..., 'Lymphatic Endothelial cell', 'Mesothelial cell', 'Atrial Cardiomyocyte', 'Mast cell', 'Adipocyte']\n",
      "Length: 12\n",
      "Categories (12, object): ['Atrial Cardiomyocyte', 'Ventricular Cardiomyocyte', 'Fibroblast', 'Endothelial cell', ..., 'Adipocyte', 'Myeloid', 'Lymphoid', 'Mast cell']\n"
     ]
    }
   ],
   "source": [
    "# There is a column called cell_type in the metadata. I want \n",
    "# to see what are the cell types in this data set\n",
    "unique_cell_types = adata.obs['cell_type'].unique()\n",
    "print(unique_cell_types)"
   ]
  },
  {
   "cell_type": "code",
   "execution_count": 10,
   "id": "ebd6e8c0-e034-4e26-bdfb-8d97af711ddf",
   "metadata": {},
   "outputs": [],
   "source": [
    "#for cell_type in unique_cell_types:\n",
    "#    print(cell_type)\n",
    "\n",
    "#Endothelial cell - Endothelial \n",
    "#Mural cell - Mesenchymal\n",
    "#Myeloid - Immune\n",
    "#Fibroblast - Mesenchymal\n",
    "#Lymphoid - Immune\n",
    "#Neural cell - Neural\n",
    "#Ventricular Cardiomyocyte - Mesenchymal\n",
    "#Lymphatic Endothelial cell - Endothelial\n",
    "#Mesothelial cell - Mesenchymal\n",
    "#Atrial Cardiomyocyte - Mesenchymal\n",
    "#Mast cell - Immune\n",
    "#Adipocyte - Mesenchymal"
   ]
  },
  {
   "cell_type": "code",
   "execution_count": 9,
   "id": "cadcd108-a5b7-4ef4-8cb9-47341ab3b76d",
   "metadata": {},
   "outputs": [
    {
     "name": "stdout",
     "output_type": "stream",
     "text": [
      "                                         cell_type      lineage\n",
      "barcode                                                        \n",
      "HCAHeart7606896_GATGAGGCACGGCTAC  Endothelial cell  Endothelial\n",
      "HCAHeart7606896_CGCTTCACATTTGCCC        Mural cell      Stromal\n",
      "HCAHeart7606896_GTTAAGCAGAGACTAT  Endothelial cell  Endothelial\n",
      "HCAHeart7606896_TCGCGTTGTAAGAGGA        Mural cell      Stromal\n",
      "HCAHeart7606896_GCTGCGAGTGTTGGGA  Endothelial cell  Endothelial\n"
     ]
    }
   ],
   "source": [
    "# Add a column in the meta data called lineage\n",
    "cell_type_to_lineage = {\n",
    "    'Endothelial cell': 'Endothelial',\n",
    "    'Mural cell': 'Stromal',\n",
    "    'Myeloid': 'Immune',\n",
    "    'Fibroblast': 'Stromal',\n",
    "    'Lymphoid': 'Immune',\n",
    "    'Neural cell': 'Neural',\n",
    "    'Ventricular Cardiomyocyte': 'Stromal',\n",
    "    'Lymphatic Endothelial cell': 'Endothelial',\n",
    "    'Mesothelial cell': 'Stromal',\n",
    "    'Atrial Cardiomyocyte': 'Stromal',\n",
    "    'Mast cell': 'Immune',\n",
    "    'Adipocyte': 'Stromal',\n",
    "}\n",
    "\n",
    "# Add a new column 'lineage' based on the 'cell_type' column\n",
    "adata.obs['lineage'] = adata.obs['cell_type'].map(cell_type_to_lineage)\n",
    "\n",
    "# Verify the result\n",
    "print(adata.obs[['cell_type', 'lineage']].head())"
   ]
  },
  {
   "cell_type": "code",
   "execution_count": 10,
   "id": "e42754fe-40ce-414f-bc77-a747c037f296",
   "metadata": {},
   "outputs": [
    {
     "name": "stdout",
     "output_type": "stream",
     "text": [
      "   Donor ID      Lineage  Proportion\n",
      "0       A61  Endothelial    0.086023\n",
      "1       A61       Immune    0.106192\n",
      "2       A61       Neural    0.011963\n",
      "3       A61      Stromal    0.795822\n",
      "4       AH1  Endothelial    0.119064\n",
      "..      ...          ...         ...\n",
      "83       H6      Stromal    0.889906\n",
      "84       H7  Endothelial    0.040788\n",
      "85       H7       Immune    0.059919\n",
      "86       H7       Neural    0.010639\n",
      "87       H7      Stromal    0.888654\n",
      "\n",
      "[88 rows x 3 columns]\n"
     ]
    }
   ],
   "source": [
    "# For each donor, get the lineage level proportions\n",
    "# Group by donor and lineage to count cells in each category\n",
    "counts = adata.obs.groupby(['donor', 'lineage']).size().reset_index(name='count')\n",
    "\n",
    "# Calculate total cells for each donor\n",
    "total_counts = adata.obs.groupby('donor').size().reset_index(name='total_count')\n",
    "\n",
    "# Merge the lineage counts with total donor counts\n",
    "proportions = counts.merge(total_counts, on='donor')\n",
    "\n",
    "# Calculate the proportion\n",
    "proportions['proportion'] = proportions['count'] / proportions['total_count']\n",
    "\n",
    "# Select relevant columns and save to a new DataFrame\n",
    "result = proportions[['donor', 'lineage', 'proportion']]\n",
    "\n",
    "# Rename columns for clarity\n",
    "result.columns = ['Donor ID', 'Lineage', 'Proportion']\n",
    "\n",
    "# Display the resulting DataFrame\n",
    "print(result)\n"
   ]
  },
  {
   "cell_type": "code",
   "execution_count": 11,
   "id": "ca914d7d-901a-41b8-8069-50bc4cdb326a",
   "metadata": {},
   "outputs": [],
   "source": [
    "# Save the DataFrame to a CSV file\n",
    "result.to_csv('/scratch/aoill/projects/heart_transplant/scrna_atlas/donor_lineage_proportions.csv', index=False)"
   ]
  },
  {
   "cell_type": "code",
   "execution_count": 12,
   "id": "2c5c1a28-e708-4958-a504-f8900a30698b",
   "metadata": {},
   "outputs": [],
   "source": [
    "# Extract metadata from the AnnData object\n",
    "metadata = adata.obs\n",
    "\n",
    "# Save metadata to a CSV file\n",
    "metadata.to_csv('/scratch/aoill/projects/heart_transplant/scrna_atlas/scrna_atlas_metadata.csv', index=True)  # Include index to preserve cell IDs"
   ]
  }
 ],
 "metadata": {
  "kernelspec": {
   "display_name": "Python 3 (ipykernel)",
   "language": "python",
   "name": "python3"
  },
  "language_info": {
   "codemirror_mode": {
    "name": "ipython",
    "version": 3
   },
   "file_extension": ".py",
   "mimetype": "text/x-python",
   "name": "python",
   "nbconvert_exporter": "python",
   "pygments_lexer": "ipython3",
   "version": "3.8.20"
  }
 },
 "nbformat": 4,
 "nbformat_minor": 5
}

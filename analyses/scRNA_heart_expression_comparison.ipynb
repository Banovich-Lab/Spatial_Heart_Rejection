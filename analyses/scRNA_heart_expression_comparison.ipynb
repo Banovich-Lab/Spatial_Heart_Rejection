{
 "cells": [
  {
   "cell_type": "code",
   "execution_count": 1,
   "id": "d00b58aa-6254-4710-bbe2-1c21db887a66",
   "metadata": {},
   "outputs": [],
   "source": [
    "# scRNA seq heart atlas\n",
    "# Comparing expression in xenium panel, lineage level\n",
    "# This is to make a list of genes to remove from expression analyses"
   ]
  },
  {
   "cell_type": "code",
   "execution_count": 2,
   "id": "4bc38f0b-f524-422a-a280-e171ec01bf2b",
   "metadata": {},
   "outputs": [],
   "source": [
    "import scanpy as sc\n",
    "import pandas as pd"
   ]
  },
  {
   "cell_type": "code",
   "execution_count": 51,
   "id": "40c7d2de-e852-462f-9f82-9ebcf796577e",
   "metadata": {},
   "outputs": [],
   "source": [
    "# Read in Global_lognormalised.h5ad file\n",
    "adata = sc.read_h5ad('/scratch/aoill/projects/heart_transplant/scrna_atlas/Global_lognormalised.h5ad')"
   ]
  },
  {
   "cell_type": "code",
   "execution_count": 52,
   "id": "b9bd10d2-d076-4ced-a867-a9ecd471deec",
   "metadata": {},
   "outputs": [
    {
     "name": "stdout",
     "output_type": "stream",
     "text": [
      "AnnData object with n_obs × n_vars = 704296 × 32732\n",
      "    obs: 'sangerID', 'donor', 'donor_type', 'region', 'age', 'gender', 'facility', 'cell_or_nuclei', 'modality', 'kit_10x', 'flushed', 'cell_type', 'cell_state', 'n_genes', 'n_genes_by_counts', 'total_counts', 'total_counts_mt', 'pct_counts_mt', 'total_counts_ribo', 'pct_counts_ribo', 'scrublet_score'\n",
      "    var: 'gene_name_scRNA-0-original', 'gene_name_snRNA-1-original', 'gene_name_multiome-2-original', 'gene_id'\n",
      "    uns: 'age_colors', 'cell_or_nuclei_colors', 'cell_state_colors', 'cell_type_colors', 'donor_colors', 'donor_type_colors', 'facility_colors', 'flushed_colors', 'gender_colors', 'kit_10x_colors', 'leiden', 'log1p', 'modality_colors', 'neighbors', 'original_or_new_colors', 'region_colors', 'region_finest_colors', 'scANVI_predictions_colors', 'umap'\n",
      "    obsm: 'X_umap'\n",
      "    obsp: 'connectivities', 'distances'\n"
     ]
    }
   ],
   "source": [
    "# Look at data\n",
    "print(adata)"
   ]
  },
  {
   "cell_type": "code",
   "execution_count": 53,
   "id": "00dd1972-9cc1-46e0-935b-c8d6fb08f138",
   "metadata": {},
   "outputs": [
    {
     "name": "stdout",
     "output_type": "stream",
     "text": [
      "                                         sangerID donor donor_type region  \\\n",
      "barcode                                                                     \n",
      "HCAHeart7606896_GATGAGGCACGGCTAC  HCAHeart7606896    D1        DBD     AX   \n",
      "HCAHeart7606896_CGCTTCACATTTGCCC  HCAHeart7606896    D1        DBD     AX   \n",
      "HCAHeart7606896_GTTAAGCAGAGACTAT  HCAHeart7606896    D1        DBD     AX   \n",
      "HCAHeart7606896_TCGCGTTGTAAGAGGA  HCAHeart7606896    D1        DBD     AX   \n",
      "HCAHeart7606896_GCTGCGAGTGTTGGGA  HCAHeart7606896    D1        DBD     AX   \n",
      "\n",
      "                                    age  gender facility cell_or_nuclei  \\\n",
      "barcode                                                                   \n",
      "HCAHeart7606896_GATGAGGCACGGCTAC  50-55  Female   Sanger           Cell   \n",
      "HCAHeart7606896_CGCTTCACATTTGCCC  50-55  Female   Sanger           Cell   \n",
      "HCAHeart7606896_GTTAAGCAGAGACTAT  50-55  Female   Sanger           Cell   \n",
      "HCAHeart7606896_TCGCGTTGTAAGAGGA  50-55  Female   Sanger           Cell   \n",
      "HCAHeart7606896_GCTGCGAGTGTTGGGA  50-55  Female   Sanger           Cell   \n",
      "\n",
      "                                 modality    kit_10x  ...         cell_type  \\\n",
      "barcode                                               ...                     \n",
      "HCAHeart7606896_GATGAGGCACGGCTAC    scRNA  3prime-v2  ...  Endothelial cell   \n",
      "HCAHeart7606896_CGCTTCACATTTGCCC    scRNA  3prime-v2  ...        Mural cell   \n",
      "HCAHeart7606896_GTTAAGCAGAGACTAT    scRNA  3prime-v2  ...  Endothelial cell   \n",
      "HCAHeart7606896_TCGCGTTGTAAGAGGA    scRNA  3prime-v2  ...        Mural cell   \n",
      "HCAHeart7606896_GCTGCGAGTGTTGGGA    scRNA  3prime-v2  ...  Endothelial cell   \n",
      "\n",
      "                                 cell_state n_genes  n_genes_by_counts  \\\n",
      "barcode                                                                  \n",
      "HCAHeart7606896_GATGAGGCACGGCTAC    EC5_art    2470               2470   \n",
      "HCAHeart7606896_CGCTTCACATTTGCCC   SMC2_art    2057               2057   \n",
      "HCAHeart7606896_GTTAAGCAGAGACTAT    EC5_art    2432               2432   \n",
      "HCAHeart7606896_TCGCGTTGTAAGAGGA  PC2_atria    1821               1821   \n",
      "HCAHeart7606896_GCTGCGAGTGTTGGGA    EC5_art    2332               2332   \n",
      "\n",
      "                                  total_counts  total_counts_mt  \\\n",
      "barcode                                                           \n",
      "HCAHeart7606896_GATGAGGCACGGCTAC        7127.0              0.0   \n",
      "HCAHeart7606896_CGCTTCACATTTGCCC        6094.0              1.0   \n",
      "HCAHeart7606896_GTTAAGCAGAGACTAT        6254.0              0.0   \n",
      "HCAHeart7606896_TCGCGTTGTAAGAGGA        5864.0              0.0   \n",
      "HCAHeart7606896_GCTGCGAGTGTTGGGA        4922.0              0.0   \n",
      "\n",
      "                                  pct_counts_mt  total_counts_ribo  \\\n",
      "barcode                                                              \n",
      "HCAHeart7606896_GATGAGGCACGGCTAC        0.00000              469.0   \n",
      "HCAHeart7606896_CGCTTCACATTTGCCC        0.01641              334.0   \n",
      "HCAHeart7606896_GTTAAGCAGAGACTAT        0.00000              326.0   \n",
      "HCAHeart7606896_TCGCGTTGTAAGAGGA        0.00000              597.0   \n",
      "HCAHeart7606896_GCTGCGAGTGTTGGGA        0.00000              246.0   \n",
      "\n",
      "                                  pct_counts_ribo  scrublet_score  \n",
      "barcode                                                            \n",
      "HCAHeart7606896_GATGAGGCACGGCTAC         6.580609        0.228571  \n",
      "HCAHeart7606896_CGCTTCACATTTGCCC         5.480801        0.134615  \n",
      "HCAHeart7606896_GTTAAGCAGAGACTAT         5.212664        0.228571  \n",
      "HCAHeart7606896_TCGCGTTGTAAGAGGA        10.180764        0.228571  \n",
      "HCAHeart7606896_GCTGCGAGTGTTGGGA         4.997968        0.172414  \n",
      "\n",
      "[5 rows x 21 columns]\n"
     ]
    }
   ],
   "source": [
    "print(adata.obs.head())"
   ]
  },
  {
   "cell_type": "code",
   "execution_count": 54,
   "id": "9ff54d44-efc5-47ca-bda6-a85e40ba48e5",
   "metadata": {},
   "outputs": [
    {
     "name": "stdout",
     "output_type": "stream",
     "text": [
      "              gene_name_scRNA-0-original gene_name_snRNA-1-original  \\\n",
      "gene_name-new                                                         \n",
      "MIR1302-2HG                  MIR1302-2HG                MIR1302-2HG   \n",
      "FAM138A                          FAM138A                    FAM138A   \n",
      "OR4F5                              OR4F5                      OR4F5   \n",
      "AL627309.1                    AL627309.1                 AL627309.1   \n",
      "AL627309.3                    AL627309.3                 AL627309.3   \n",
      "\n",
      "              gene_name_multiome-2-original          gene_id  \n",
      "gene_name-new                                                 \n",
      "MIR1302-2HG                     MIR1302-2HG  ENSG00000243485  \n",
      "FAM138A                             FAM138A  ENSG00000237613  \n",
      "OR4F5                                 OR4F5  ENSG00000186092  \n",
      "AL627309.1                       AL627309.1  ENSG00000238009  \n",
      "AL627309.3                       AL627309.3  ENSG00000239945  \n"
     ]
    }
   ],
   "source": [
    "print(adata.var.head())"
   ]
  },
  {
   "cell_type": "code",
   "execution_count": 55,
   "id": "b65b7829-24ff-40fb-9bc6-fb93e40af694",
   "metadata": {},
   "outputs": [
    {
     "name": "stdout",
     "output_type": "stream",
     "text": [
      "['scRNA', 'snRNA', 'Multiome-RNA']\n",
      "Categories (3, object): ['Multiome-RNA', 'scRNA', 'snRNA']\n"
     ]
    }
   ],
   "source": [
    "# Is there only scRNA in this dataset?\n",
    "unique_modalities = adata.obs['modality'].unique()\n",
    "print(unique_modalities)\n",
    "# 'Multiome-RNA', 'scRNA', 'snRNA'\n",
    "# not sure if that matters\n",
    "# no spatial so for now I'll just us all of the data"
   ]
  },
  {
   "cell_type": "code",
   "execution_count": 56,
   "id": "ebc26a2e-088c-49d6-8d5d-6f6c687ec797",
   "metadata": {},
   "outputs": [
    {
     "name": "stdout",
     "output_type": "stream",
     "text": [
      "['D1', 'D3', 'D4', 'D5', 'D6', ..., 'AV10', 'AV14', 'AV3', 'AV13', 'AH2']\n",
      "Length: 22\n",
      "Categories (22, object): ['A61', 'AH1', 'AH2', 'AV3', ..., 'H4', 'H5', 'H6', 'H7']\n"
     ]
    }
   ],
   "source": [
    "unique_donors = adata.obs['donor'].unique()\n",
    "print(unique_donors)\n",
    "# there are 22 donors"
   ]
  },
  {
   "cell_type": "code",
   "execution_count": 57,
   "id": "ad5b672f-0b1b-436d-84ce-78279a68472b",
   "metadata": {},
   "outputs": [
    {
     "name": "stdout",
     "output_type": "stream",
     "text": [
      "['AX', 'LV', 'RV', 'LA', 'SP', 'RA', 'SAN', 'AVN']\n",
      "Categories (8, object): ['SAN', 'AVN', 'RA', 'LA', 'RV', 'LV', 'SP', 'AX']\n"
     ]
    }
   ],
   "source": [
    "# What are the different regions of the heart sampled?\n",
    "# Do we know in our data set and do we want to match where avaiable?\n",
    "unique_regions = adata.obs['region'].unique()\n",
    "print(unique_regions)\n",
    "# 'SAN', 'AVN', 'RA', 'LA', 'RV', 'LV', 'SP', 'AX'"
   ]
  },
  {
   "cell_type": "code",
   "execution_count": 58,
   "id": "f40b76af-030d-486d-b848-5c9c7b814319",
   "metadata": {},
   "outputs": [
    {
     "name": "stdout",
     "output_type": "stream",
     "text": [
      "['Endothelial cell', 'Mural cell', 'Myeloid', 'Fibroblast', 'Lymphoid', ..., 'Lymphatic Endothelial cell', 'Mesothelial cell', 'Atrial Cardiomyocyte', 'Mast cell', 'Adipocyte']\n",
      "Length: 12\n",
      "Categories (12, object): ['Atrial Cardiomyocyte', 'Ventricular Cardiomyocyte', 'Fibroblast', 'Endothelial cell', ..., 'Adipocyte', 'Myeloid', 'Lymphoid', 'Mast cell']\n"
     ]
    }
   ],
   "source": [
    "# There is a column called cell_type in the metadata. I want \n",
    "# to see what are the cell types in this data set\n",
    "unique_cell_types = adata.obs['cell_type'].unique()\n",
    "print(unique_cell_types)"
   ]
  },
  {
   "cell_type": "code",
   "execution_count": 59,
   "id": "d3bea339-3f63-40d2-acfb-2600e454792a",
   "metadata": {},
   "outputs": [],
   "source": [
    "#unique_cell_types = adata.obs['cell_state'].unique()\n",
    "#for ct in unique_cell_types:\n",
    "#    print(ct)"
   ]
  },
  {
   "cell_type": "code",
   "execution_count": 11,
   "id": "ebd6e8c0-e034-4e26-bdfb-8d97af711ddf",
   "metadata": {},
   "outputs": [],
   "source": [
    "#for cell_type in unique_cell_types:\n",
    "#    print(cell_type)\n",
    "\n",
    "# Groupings to look at: Endothelial, myeloid, lymphoid, mesenchymal, and cardiomyocytes\n",
    "#Endothelial cell - Endothelial \n",
    "#Mural cell - Mesenchymal\n",
    "#Myeloid - Myeloid\n",
    "#Fibroblast - Mesenchymal\n",
    "#Lymphoid - Lymphoid\n",
    "#Neural cell - Neural (not analyzing)\n",
    "#Ventricular Cardiomyocyte - Cardiomyocyte\n",
    "#Lymphatic Endothelial cell - Endothelial\n",
    "#Mesothelial cell - Mesenchymal\n",
    "#Atrial Cardiomyocyte - Cardiomyocyte\n",
    "#Mast cell - Myeloid\n",
    "#Adipocyte - Mesenchymal\n"
   ]
  },
  {
   "cell_type": "code",
   "execution_count": 60,
   "id": "cadcd108-a5b7-4ef4-8cb9-47341ab3b76d",
   "metadata": {},
   "outputs": [
    {
     "name": "stdout",
     "output_type": "stream",
     "text": [
      "                                         cell_type      lineage\n",
      "barcode                                                        \n",
      "HCAHeart7606896_GATGAGGCACGGCTAC  Endothelial cell  Endothelial\n",
      "HCAHeart7606896_CGCTTCACATTTGCCC        Mural cell        Mural\n",
      "HCAHeart7606896_GTTAAGCAGAGACTAT  Endothelial cell  Endothelial\n",
      "HCAHeart7606896_TCGCGTTGTAAGAGGA        Mural cell        Mural\n",
      "HCAHeart7606896_GCTGCGAGTGTTGGGA  Endothelial cell  Endothelial\n"
     ]
    }
   ],
   "source": [
    "# Add a column in the meta data called lineage\n",
    "#cell_type_to_lineage = {\n",
    "#    'Endothelial cell': 'Endothelial',\n",
    "#    'Mural cell': 'Mesenchymal',\n",
    "#    'Myeloid': 'Myeloid',\n",
    "#    'Fibroblast': 'Mesenchymal',\n",
    "#    'Lymphoid': 'Lymphoid',\n",
    "#    'Neural cell': 'Neural',\n",
    "#    'Ventricular Cardiomyocyte': 'Cardiomyocyte',\n",
    "#    'Lymphatic Endothelial cell': 'Endothelial',\n",
    "#    'Mesothelial cell': 'Mesenchymal',\n",
    "#    'Atrial Cardiomyocyte': 'Cardiomyocyte',\n",
    "#    'Mast cell': 'Myeloid',\n",
    "#    'Adipocyte': 'Mesenchymal',\n",
    "#}\n",
    "\n",
    "# dont condense cell types that much\n",
    "cell_type_to_lineage = {\n",
    "    'Endothelial cell': 'Endothelial',\n",
    "    'Mural cell': 'Mural',\n",
    "    'Myeloid': 'Myeloid',\n",
    "    'Fibroblast': 'Fibroblast',\n",
    "    'Lymphoid': 'Lymphoid',\n",
    "    'Neural cell': 'Neural',\n",
    "    'Ventricular Cardiomyocyte': 'Cardiomyocyte',\n",
    "    'Lymphatic Endothelial cell': 'Lymphatic_Endothelial',\n",
    "    'Mesothelial cell': 'Mesothelial',\n",
    "    'Atrial Cardiomyocyte': 'Cardiomyocyte',\n",
    "    'Mast cell': 'Mast',\n",
    "    'Adipocyte': 'Adipocyte',\n",
    "}\n",
    "\n",
    "# Add a new column 'lineage' based on the 'cell_type' column\n",
    "adata.obs['lineage'] = adata.obs['cell_type'].map(cell_type_to_lineage)\n",
    "\n",
    "# Verify the result\n",
    "print(adata.obs[['cell_type', 'lineage']].head())"
   ]
  },
  {
   "cell_type": "code",
   "execution_count": 61,
   "id": "fdf4c630-8159-46f3-aabd-f4fe8529d23e",
   "metadata": {},
   "outputs": [],
   "source": [
    "# Genes in my panel to analyze\n",
    "xen_genes = [\n",
    "    \"ABCC11\", \"ABHD16A\", \"ACE2\", \"ACKR1\", \"ACTA2\", \"ACTG2\", \"ADAM28\", \"ADAMTS1\", \n",
    "    \"ADGRE1\", \"ADGRG7\", \"ADGRL4\", \"ADH1C\", \"ADH4\", \"ADIPOQ\", \"AGER\", \"AGR3\", \n",
    "    \"AHSP\", \"AICDA\", \"AIF1\", \"ALAS2\", \"ALB\", \"ALDH1A3\", \"AMY2A\", \"ANGPT2\", \n",
    "    \"ANKS1B\", \"ANPEP\", \"APCDD1\", \"APOA5\", \"APOBEC3A\", \"APOLD1\", \"AQP2\", \"AQP3\", \n",
    "    \"AQP8\", \"AQP9\", \"AR\", \"ARC\", \"ARFGEF3\", \"ASCL1\", \"ASCL3\", \"ASPN\", \"BAG6\", \n",
    "    \"BAMBI\", \"BANK1\", \"BASP1\", \"BBOX1\", \"BCL2L11\", \"BMX\", \"BRD2\", \"BTLA\", \"BTNL9\", \n",
    "    \"C15orf48\", \"C1orf162\", \"C1orf194\", \"C20orf85\", \"C4A\", \"C4B\", \"C5orf46\", \n",
    "    \"C6orf118\", \"C7\", \"CA4\", \"CAPN8\", \"CAV1\", \"CAVIN1\", \"CAVIN2\", \"CCDC39\", \n",
    "    \"CCDC78\", \"CCL19\", \"CCL27\", \"CCL4\", \"CCL5\", \"CCNB2\", \"CCR2\", \"CCR6\", \"CCR7\", \n",
    "    \"CCR8\", \"CD14\", \"CD163\", \"CD19\", \"CD1A\", \"CD1C\", \"CD1E\", \"CD2\", \"CD209\", \n",
    "    \"CD247\", \"CD27\", \"CD274\", \"CD28\", \"CD300E\", \"CD34\", \"CD3D\", \"CD3E\", \"CD4\", \n",
    "    \"CD40\", \"CD40LG\", \"CD5\", \"CD5L\", \"CD68\", \"CD69\", \"CD70\", \"CD72\", \"CD79A\", \n",
    "    \"CD80\", \"CD83\", \"CD86\", \"CD8A\", \"CD93\", \"CDH16\", \"CDH4\", \"CDK1\", \"CELF4\", \n",
    "    \"CENPF\", \"CFAP53\", \"CFB\", \"CFHR1\", \"CFHR3\", \"CFTR\", \"CHGA\", \"CHST15\", \n",
    "    \"CLC\", \"CLCA1\", \"CLCA2\", \"CLEC10A\", \"CLEC14A\", \"CLEC4E\", \"CLECL1\", \"CLIC6\", \n",
    "    \"CLNK\", \"CNN1\", \"COCH\", \"COL17A1\", \"COL1A1\", \"COL1A2\", \"COL22A1\", \"COL5A2\", \n",
    "    \"CPA3\", \"CRHBP\", \"CRISPLD2\", \"CSF2RA\", \"CSF2RB\", \"CSF3\", \"CTLA4\", \"CTSG\", \n",
    "    \"CTSK\", \"CTSS\", \"CX3CL1\", \"CX3CR1\", \"CXCL10\", \"CXCL11\", \"CXCL2\", \"CXCL6\", \n",
    "    \"CXCL8\", \"CXCL9\", \"CXCR3\", \"CXCR4\", \"CYP1A1\", \"CYP2A7\", \"CYP2B6\", \"CYP2F1\", \n",
    "    \"CYP3A4\", \"CYP4B1\", \"CYTIP\", \"DCN\", \"DERL3\", \"DES\", \"DIRAS3\", \"DMBT1\", \"DNAAF1\", \n",
    "    \"DNASE1L3\", \"DPEP1\", \"DPT\", \"DST\", \"DUSP2\", \"ECSCR\", \"EDN1\", \"EDNRB\", \n",
    "    \"EGFL7\", \"EGFR\", \"EHF\", \"ELF5\", \"EPCAM\", \"ERBB2\", \"ERG\", \"ESR1\", \"FAP\", \n",
    "    \"FAS\", \"FBLN1\", \"FBN1\", \"FCER1A\", \"FCER1G\", \"FCGR1A\", \"FCGR3A\", \"FCN1\", \n",
    "    \"FCN2\", \"FFAR2\", \"FGFBP1\", \"FGFBP2\", \"FGL2\", \"FHL2\", \"FKBP11\", \"FKBP1A\", \n",
    "    \"FLOT1\", \"FOSB\", \"FOXA1\", \"FOXI1\", \"FOXJ1\", \"FOXP3\", \"FSTL3\", \"FXYD2\", \n",
    "    \"GATA2\", \"GATA3\", \"GATM\", \"GCG\", \"GDF15\", \"GEM\", \"GGH\", \"GHRL\", \"GKN2\", \n",
    "    \"GLIPR1\", \"GLYATL1\", \"GNG11\", \"GNL1\", \"GNLY\", \"GPC1\", \"GPC3\", \"GPR183\", \n",
    "    \"GPRC5A\", \"GPX2\", \"GYPA\", \"GYPB\", \"GZMA\", \"GZMB\", \"GZMK\", \"HAMP\", \n",
    "    \"HAVCR2\", \"HEMGN\", \"HEPACAM2\", \"HES4\", \"HIGD1B\", \"HLA-DQB2\", \"HMGCS2\", \n",
    "    \"HPGDS\", \"HPX\", \"HS6ST3\", \"ICAM1\", \"IGF1\", \"IGSF6\", \"IL1B\", \"IL1R2\", \n",
    "    \"IL1RL1\", \"IL2RA\", \"IL3RA\", \"IL6R\", \"IL7R\", \"INMT\", \"INS\", \"IRF8\", \"ITGAM\", \n",
    "    \"ITGAX\", \"KCNH7\", \"KCNK3\", \"KCNMA1\", \"KIT\", \"KLK11\", \"KLRB1\", \"KLRC1\", \n",
    "    \"KLRD1\", \"KNG1\", \"KRT20\", \"KRT7\", \"LAG3\", \"LAMP3\", \"LEF1\", \"LGI4\", \"LGR5\", \n",
    "    \"LHFPL5\", \"LIF\", \"LILRA4\", \"LILRA5\", \"LILRB2\", \"LILRB4\", \"LPL\", \"LRTM1\", \n",
    "    \"LST1\", \"LTBP2\", \"LY6D\", \"LY6G5B\", \"LY86\", \"LYPD5\", \"LYVE1\", \"LYZ\", \n",
    "    \"MALL\", \"MAMDC2\", \"MARCO\", \"MCEMP1\", \"MCF2L\", \"MDM2\", \"MEDAG\", \"MEF2C\", \n",
    "    \"MEST\", \"MET\", \"MFAP5\", \"MINAR2\", \"MKI67\", \"MLANA\", \"MLPH\", \"MMRN1\", \n",
    "    \"MMRN2\", \"MNDA\", \"MPEG1\", \"MRC1\", \"MS4A1\", \"MS4A2\", \"MS4A3\", \"MS4A4A\", \n",
    "    \"MS4A6A\", \"MS4A7\", \"MSX1\", \"MTOR\", \"MTRNR2L11\", \"MYBPC1\", \"MYC\", \"MYD88\", \n",
    "    \"MYH11\", \"MYLK\", \"MZB1\", \"NAT8\", \"NKG7\", \"NOMO1\", \"NPDC1\", \"NTN4\", \"OGN\", \n",
    "    \"OPRPN\", \"PCNA\", \"PCOLCE\", \"PCP4\", \"PCSK2\", \"PDCD1\", \"PDGFRA\", \"PDGFRB\", \n",
    "    \"PDPN\", \"PEBP4\", \"PECAM1\", \"PGR\", \"PILRA\", \"PITX1\", \"PLA1A\", \"PLA2G2A\", \n",
    "    \"PLA2G2D\", \"PLA2G7\", \"PLAC9\", \"PLAUR\", \"PLCG2\", \"PLD4\", \"PLIN4\", \"PMP22\", \n",
    "    \"POSTN\", \"PPARG\", \"PPM1N\", \"PPP1R11\", \"PPP1R1A\", \"PPP1R1B\", \"PPY\", \n",
    "    \"PRCP\", \"PRDM1\", \"PRF1\", \"PRG4\", \"PROX1\", \"PSG2\", \"PSMB8\", \"PTGDS\", \"PTN\", \n",
    "    \"PTPRC\", \"PVALB\", \"RAMP2\", \"RAPGEF3\", \"RBP5\", \"RERGL\", \"RETN\", \"RGS16\", \n",
    "    \"RIDA\", \"RND1\", \"ROBO4\", \"RTKN2\", \"S100A1\", \"S100A12\", \"SCGB2A1\", \"SCGN\", \n",
    "    \"SCUBE1\", \"SELE\", \"SELL\", \"SELP\", \"SEMA3C\", \"SERPINB2\", \"SERPINB3\", \n",
    "    \"SERPINB9\", \"SFRP2\", \"SFRP4\", \"SFTA2\", \"SH2D3C\", \"SIGLEC1\", \"SLAMF1\", \n",
    "    \"SLAMF7\", \"SLC18A2\", \"SLC22A8\", \"SLC22A9\", \"SLC26A2\", \"SLC26A3\", \"SLC4A1\", \n",
    "    \"SMIM24\", \"SMYD2\", \"SNAI1\", \"SNCA\", \"SNCG\", \"SNTN\", \"SOX17\", \"SOX18\", \"SOX2\", \n",
    "    \"SPDEF\", \"SPI1\", \"SPIB\", \"SPP1\", \"SRPX\", \"SST\", \"STC1\", \"STC2\", \"STEAP4\", \"TAC1\", \n",
    "    \"TAP1\", \"TAT\", \"TBX3\", \"TCF15\", \"TCF4\", \"TCIM\", \"TCL1A\", \"TENT5C\", \"TFF2\", \"TFPI\", \n",
    "    \"THAP2\", \"THBS2\", \"THBS4\", \"THEMIS2\", \"THY1\", \"TIFAB\", \"TIMP4\", \"TLR4\", \"TM4SF18\", \n",
    "    \"TM4SF4\", \"TMC5\", \"TMEM100\", \"TMEM174\", \"TMEM52B\", \"TNC\", \"TNFRSF13B\", \"TNFRSF17\", \n",
    "    \"TNFRSF4\", \"TNFRSF9\", \"TNXB\", \"TOP2A\", \"TOX\", \"TRAC\", \"TREM2\", \"TRIM26\", \"TSPAN19\", \n",
    "    \"TSPY3\", \"TTN\", \"TYROBP\", \"UBD\", \"UBE2C\", \"UMOD\", \"UPK3B\", \"VCAM1\", \"VCAN\", \"VSIG4\", \n",
    "    \"VWA5A\", \"VWF\", \"XCR1\", \"ZCCHC12\"\n",
    "]"
   ]
  },
  {
   "cell_type": "code",
   "execution_count": 50,
   "id": "42cff7eb-b259-49f6-9918-104404427556",
   "metadata": {},
   "outputs": [],
   "source": [
    "#genes_to_keep = []\n",
    "#for lineage in adata.obs['lineage'].unique():\n",
    "#    print(f\"Processing lineage: {lineage}\")\n",
    "#    \n",
    "#    # subset adata to just have the cells from the lineage being analyzed\n",
    "#    lineage_adata = adata[adata.obs['lineage'] == lineage, :]\n",
    "#    for gene in xen_genes:\n",
    "#        #print(gene)\n",
    "#        # get the counts for that gene across all the cells in the lineage\n",
    "#        gene_index = lineage_adata.var_names.get_loc(gene)\n",
    "#        sum_counts = lineage_adata.X[:, gene_index].sum()\n",
    "#        # if the sum of those counts are greater than 0 then add that gene and cell type pair to a list\n",
    "#        if sum_counts > 0:\n",
    "#            genes_to_keep.append([lineage, gene])\n",
    "#        \n",
    "## Create a pandas DataFrame from the collected data\n",
    "#df_genes_to_keep = pd.DataFrame(genes_to_keep, columns=['Lineage', 'Gene'])\n"
   ]
  },
  {
   "cell_type": "code",
   "execution_count": 62,
   "id": "960bcaac-0f2c-4c9f-96b1-48846ab7e914",
   "metadata": {},
   "outputs": [
    {
     "name": "stdout",
     "output_type": "stream",
     "text": [
      "Processing lineage: Endothelial\n",
      "Processing lineage: Mural\n",
      "Processing lineage: Myeloid\n",
      "Processing lineage: Fibroblast\n",
      "Processing lineage: Lymphoid\n",
      "Processing lineage: Neural\n",
      "Processing lineage: Cardiomyocyte\n",
      "Processing lineage: Lymphatic_Endothelial\n",
      "Processing lineage: Mesothelial\n",
      "Processing lineage: Mast\n",
      "Processing lineage: Adipocyte\n"
     ]
    }
   ],
   "source": [
    "# Lots of genes remained so maybe do has to have expression in at least 20% of cells?\n",
    "# Make the table be lineage, gene, pt of cells with any expression\n",
    "genes_to_keep = []\n",
    "for lineage in adata.obs['lineage'].unique():\n",
    "    print(f\"Processing lineage: {lineage}\")\n",
    "    \n",
    "    # subset adata to just have the cells from the lineage being analyzed\n",
    "    lineage_adata = adata[adata.obs['lineage'] == lineage, :]\n",
    "    for gene in xen_genes:\n",
    "        #print(gene)\n",
    "        # get the counts for that gene across all the cells in the lineage\n",
    "        gene_expression_values = lineage_adata[:, gene].X.toarray().flatten()\n",
    "        # get the number of cells with any expression\n",
    "        cells_expressing_gene = (gene_expression_values > 0).sum()\n",
    "        # get the total number of cells in the lineage\n",
    "        total_cells_in_lineage = lineage_adata.n_obs\n",
    "        if total_cells_in_lineage > 0:\n",
    "            proportion_expressed = cells_expressing_gene / total_cells_in_lineage\n",
    "            genes_to_keep.append([lineage, gene, proportion_expressed])\n",
    "\n",
    "        \n",
    "# Create a pandas DataFrame from the collected data\n",
    "df_genes_to_keep = pd.DataFrame(genes_to_keep, columns=['Lineage', 'Gene', 'Proprtion_Expressed'])"
   ]
  },
  {
   "cell_type": "code",
   "execution_count": 40,
   "id": "091a14d1-604e-49cd-9e47-ad4cc87b576a",
   "metadata": {},
   "outputs": [],
   "source": [
    "# Testing code\n",
    "#lineage_adata = adata[adata.obs['lineage'] == \"Endothelial\", :]\n",
    "#gene_index = lineage_adata.var_names.get_loc(\"ABCC11\")\n",
    "#sum_counts = lineage_adata.X[:, gene_index].sum()\n",
    "##sum_counts\n",
    "\n",
    "##if sum_counts > 0:\n",
    "##    print(sum_counts)"
   ]
  },
  {
   "cell_type": "code",
   "execution_count": 37,
   "id": "ba3de017-5861-4084-b345-cbdaceadb577",
   "metadata": {},
   "outputs": [],
   "source": [
    "#adata.X\n",
    "#adata.X[120:150, 100:110].toarray()"
   ]
  },
  {
   "cell_type": "code",
   "execution_count": 63,
   "id": "5eeb7264-f7c6-42a7-a2e8-e13fbc9efceb",
   "metadata": {},
   "outputs": [
    {
     "name": "stdout",
     "output_type": "stream",
     "text": [
      "          Lineage     Gene  Proprtion_Expressed\n",
      "0     Endothelial   ABCC11             0.001217\n",
      "1     Endothelial  ABHD16A             0.011148\n",
      "2     Endothelial     ACE2             0.004129\n",
      "3     Endothelial    ACKR1             0.073594\n",
      "4     Endothelial    ACTA2             0.048759\n",
      "...           ...      ...                  ...\n",
      "5242    Adipocyte    VSIG4             0.008666\n",
      "5243    Adipocyte    VWA5A             0.028360\n",
      "5244    Adipocyte      VWF             0.070112\n",
      "5245    Adipocyte     XCR1             0.001103\n",
      "5246    Adipocyte  ZCCHC12             0.000473\n",
      "\n",
      "[5247 rows x 3 columns]\n"
     ]
    }
   ],
   "source": [
    "# Print the resulting DataFrame\n",
    "print(df_genes_to_keep)"
   ]
  },
  {
   "cell_type": "code",
   "execution_count": 64,
   "id": "3aa00f38-6257-4e71-89f7-15a327d990f7",
   "metadata": {},
   "outputs": [],
   "source": [
    "# Save the DataFrame to a CSV file\n",
    "#df_genes_to_keep.to_csv('/scratch/aoill/projects/heart_transplant/scrna_atlas/genes_to_keep.csv', index=False)\n",
    "df_genes_to_keep.to_csv('/scratch/aoill/projects/heart_transplant/scrna_atlas/genes_to_keep_proportions_new_groups.csv', index=False)"
   ]
  },
  {
   "cell_type": "code",
   "execution_count": null,
   "id": "c3c8251c-04d2-4774-aee6-c61a4c1a4412",
   "metadata": {},
   "outputs": [],
   "source": []
  }
 ],
 "metadata": {
  "kernelspec": {
   "display_name": "Python 3 (ipykernel)",
   "language": "python",
   "name": "python3"
  },
  "language_info": {
   "codemirror_mode": {
    "name": "ipython",
    "version": 3
   },
   "file_extension": ".py",
   "mimetype": "text/x-python",
   "name": "python",
   "nbconvert_exporter": "python",
   "pygments_lexer": "ipython3",
   "version": "3.8.20"
  }
 },
 "nbformat": 4,
 "nbformat_minor": 5
}

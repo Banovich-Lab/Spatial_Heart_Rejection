{
 "cells": [
  {
   "cell_type": "code",
   "execution_count": 1,
   "id": "234623a3-8da9-40a5-be04-f9b98c3d2dd0",
   "metadata": {},
   "outputs": [
    {
     "name": "stderr",
     "output_type": "stream",
     "text": [
      "/tmp/ipykernel_725555/19227154.py:9: DeprecationWarning: The global conversion available with activate() is deprecated and will be removed in the next major release. Use a local converter.\n",
      "  anndata2ri.activate()\n"
     ]
    }
   ],
   "source": [
    "import pickle\n",
    "import anndata2ri\n",
    "import scanpy\n",
    "import rpy2\n",
    "import rpy2.robjects as robjects\n",
    "from rpy2.robjects.packages import importr\n",
    "\n",
    "#This activates the object conversion.\n",
    "anndata2ri.activate()\n",
    "%load_ext rpy2.ipython"
   ]
  },
  {
   "cell_type": "code",
   "execution_count": 2,
   "id": "27d23a80-857f-423d-be7b-d4ad24dd64e9",
   "metadata": {},
   "outputs": [
    {
     "name": "stdout",
     "output_type": "stream",
     "text": [
      "\n",
      "    WARNING: The R package \"reticulate\" only fixed recently\n",
      "    an issue that caused a segfault when used with rpy2:\n",
      "    https://github.com/rstudio/reticulate/pull/1188\n",
      "    Make sure that you use a version of that package that includes\n",
      "    the fix.\n",
      "    "
     ]
    }
   ],
   "source": [
    "#Import needed R libraries.\n",
    "seurat = importr('Seurat')\n",
    "base = importr('base')"
   ]
  },
  {
   "cell_type": "code",
   "execution_count": 3,
   "id": "5330556f-aacd-439f-a2cd-ef07241d5fcd",
   "metadata": {},
   "outputs": [
    {
     "data": {
      "text/plain": [
       "<rpy2.robjects.methods.RS4 object at 0x15549c30acc0> [RTYPES.S4SXP]\n",
       "R classes: ('Seurat',)"
      ]
     },
     "execution_count": 3,
     "metadata": {},
     "output_type": "execute_result"
    }
   ],
   "source": [
    "#Read Seurat object into R.\n",
    "robjects.r('seurat_object = readRDS(\"/scratch/aoill/projects/heart_transplant/new/merged_spatial_filtered_macro_pass3.rds\")')\n",
    "\n",
    "# Other temp objects that went through this pipeline for annotation\n",
    "#robjects.r('seurat_object = readRDS(\"/scratch/aoill/projects/heart_transplant/new/merged_spatial_filtered_macro_c5_pass3.rds\")')\n",
    "#robjects.r('seurat_object = readRDS(\"/scratch/aoill/projects/heart_transplant/new/merged_spatial_filtered_macro_pass3.rds\")')\n",
    "#robjects.r('seurat_object = readRDS(\"/scratch/aoill/projects/heart_transplant/new/merged_spatial_filtered_endo_pass2.rds\")')\n",
    "#robjects.r('seurat_object = readRDS(\"/scratch/aoill/projects/heart_transplant/new/merged_spatial_filtered_mes_pass2.rds\")')\n",
    "#robjects.r('seurat_object = readRDS(\"/scratch/aoill/projects/heart_transplant/new/merged_spatial_filtered_T.rds\")')\n",
    "#robjects.r('seurat_object = readRDS(\"/scratch/aoill/projects/heart_transplant/new/merged_spatial_filtered_lymphoid.rds\")')\n",
    "#robjects.r('seurat_object = readRDS(\"/scratch/aoill/projects/heart_transplant/new/merged_spatial_filtered_meyloid.rds\")')\n",
    "#robjects.r('seurat_object = readRDS(\"/scratch/aoill/projects/heart_transplant/new/merged_spatial_filtered_imm_pass2.rds\")')\n",
    "#robjects.r('seurat_object = readRDS(\"/scratch/aoill/projects/heart_transplant/new/merged_spatial_filtered_card_pass1.rds\")')\n",
    "#robjects.r('seurat_object = readRDS(\"/scratch/aoill/projects/heart_transplant/new/merged_spatial_filtered_endo_pass1.rds\")')\n",
    "#robjects.r('seurat_object = readRDS(\"/scratch/aoill/projects/heart_transplant/new/merged_spatial_filtered_mes_pass1.rds\")')\n",
    "#robjects.r('seurat_object = readRDS(\"/scratch/aoill/projects/heart_transplant/new/merged_spatial_filtered_imm_pass1.rds\")')\n",
    "#robjects.r('seurat_object = readRDS(\"/scratch/aoill/projects/heart_transplant/xenium_spatial_cells_only_filtered.rds\")')"
   ]
  },
  {
   "cell_type": "code",
   "execution_count": 4,
   "id": "ec0f709f-9cc2-415a-b038-0db60ffb7f77",
   "metadata": {},
   "outputs": [
    {
     "name": "stderr",
     "output_type": "stream",
     "text": [
      "/opt/conda/envs/rpy2/lib/python3.10/site-packages/anndata2ri/_r2py.py:132: FutureWarning: X.dtype being converted to np.float32 from float64. In the next version of anndata (0.9) conversion will not be automatic. Pass dtype explicitly to avoid this warning. Pass `AnnData(X, dtype=X.dtype, ...)` to get the future behavour.\n",
      "  return AnnData(exprs, obs, var, uns, obsm, layers=layers)\n"
     ]
    }
   ],
   "source": [
    "#Merge layers because Seurat object versioning is wild. Convert Seurat object to Anndata.\n",
    "robjects.r('seurat_object = JoinLayers(seurat_object)')\n",
    "adata = robjects.r('as.SingleCellExperiment(seurat_object)')"
   ]
  },
  {
   "cell_type": "code",
   "execution_count": 5,
   "id": "7ceb9801-c0eb-43e4-a82e-feded29d9bcb",
   "metadata": {},
   "outputs": [],
   "source": [
    "#Check to make sure conversion worked and possibly cast counts to array if necessary.\n",
    "# Might not need to run, if the data was already in array format\n",
    "adata.X = adata.X.toarray()"
   ]
  },
  {
   "cell_type": "code",
   "execution_count": 6,
   "id": "afd9f6cc-bb4c-4255-8947-f1d42da50429",
   "metadata": {},
   "outputs": [
    {
     "data": {
      "text/plain": [
       "array([[0., 0., 0., ..., 0., 5., 0.],\n",
       "       [0., 0., 0., ..., 0., 1., 0.],\n",
       "       [1., 0., 2., ..., 0., 0., 0.],\n",
       "       ...,\n",
       "       [0., 0., 1., ..., 0., 2., 0.],\n",
       "       [0., 1., 0., ..., 0., 1., 0.],\n",
       "       [0., 0., 0., ..., 2., 0., 0.]], dtype=float32)"
      ]
     },
     "execution_count": 6,
     "metadata": {},
     "output_type": "execute_result"
    }
   ],
   "source": [
    "adata.X"
   ]
  },
  {
   "cell_type": "code",
   "execution_count": 7,
   "id": "0d298c8d-68b7-4568-a39a-ad9519784ad9",
   "metadata": {},
   "outputs": [],
   "source": [
    "del adata.layers"
   ]
  },
  {
   "cell_type": "code",
   "execution_count": 8,
   "id": "93aabff9-3b0f-4eab-ac49-72d4bdf1b33d",
   "metadata": {},
   "outputs": [],
   "source": [
    "#Write anndata to pickle file. Next move to the clustering script.\n",
    "with open(\"merged_spatial_filtered\", \"wb\") as adata_object:\n",
    "    pickle.dump(adata, adata_object)"
   ]
  },
  {
   "cell_type": "code",
   "execution_count": 9,
   "id": "a2097363-fcbe-4831-896e-5142d8d064e8",
   "metadata": {},
   "outputs": [
    {
     "data": {
      "text/plain": [
       "AnnData object with n_obs × n_vars = 5849 × 350\n",
       "    obs: 'orig.ident', 'nCount_Xenium', 'nFeature_Xenium', 'nCount_BlankCodeword', 'nFeature_BlankCodeword', 'nCount_ControlCodeword', 'nFeature_ControlCodeword', 'nCount_ControlProbe', 'nFeature_ControlProbe', 'cell_id', 'x_centroid', 'y_centroid', 'transcript_counts', 'control_probe_counts', 'genomic_control_counts', 'control_codeword_counts', 'unassigned_codeword_counts', 'deprecated_codeword_counts', 'total_counts', 'cell_area', 'nucleus_area', 'nucleus_count', 'segmentation_method', 'Sample', 'slide', 'adj_x_centroid', 'adj_y_centroid', 'percent_BlankCodeword', 'percent_ControlCodeword', 'percent_ControlProbe', 'ident'\n",
       "    obsm: 'SP'"
      ]
     },
     "execution_count": 9,
     "metadata": {},
     "output_type": "execute_result"
    }
   ],
   "source": [
    "adata"
   ]
  },
  {
   "cell_type": "code",
   "execution_count": null,
   "id": "354415e9-662c-477f-8178-288b811b0416",
   "metadata": {},
   "outputs": [],
   "source": [
    "# Immediately go to clustering script"
   ]
  }
 ],
 "metadata": {
  "kernelspec": {
   "display_name": "Python [conda env:rpy2] *",
   "language": "python",
   "name": "conda-env-rpy2-py"
  },
  "language_info": {
   "codemirror_mode": {
    "name": "ipython",
    "version": 3
   },
   "file_extension": ".py",
   "mimetype": "text/x-python",
   "name": "python",
   "nbconvert_exporter": "python",
   "pygments_lexer": "ipython3",
   "version": "3.10.13"
  }
 },
 "nbformat": 4,
 "nbformat_minor": 5
}
